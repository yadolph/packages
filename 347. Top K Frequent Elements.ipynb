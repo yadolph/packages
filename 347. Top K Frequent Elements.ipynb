{
 "cells": [
  {
   "cell_type": "code",
   "execution_count": 29,
   "id": "7640fa92",
   "metadata": {},
   "outputs": [],
   "source": [
    "class Solution:\n",
    "    def topKFrequent(self, nums: [int], k: int) -> [int]:\n",
    "        num_rating = {}\n",
    "        for num in nums:\n",
    "            if not str(num) in num_rating:\n",
    "                num_rating[str(num)] = 1\n",
    "            else:\n",
    "                num_rating[str(num)] += 1\n",
    "        num_rating = dict(sorted(num_rating.items(), key=lambda x: x[1], reverse=True))\n",
    "        counter = 0\n",
    "        result = []\n",
    "        for key in num_rating:\n",
    "            result.append(int(key))\n",
    "            counter += 1\n",
    "            if counter == k:\n",
    "                break\n",
    "        return result\n",
    "            \n",
    "            "
   ]
  },
  {
   "cell_type": "code",
   "execution_count": 30,
   "id": "a5635310",
   "metadata": {},
   "outputs": [
    {
     "name": "stdout",
     "output_type": "stream",
     "text": [
      "[4, 1]\n"
     ]
    }
   ],
   "source": [
    "nums = [1,1,1,2,2,3,4,4,4,4]\n",
    "k = 2\n",
    "solution = Solution()\n",
    "print(solution.topKFrequent(nums, k))"
   ]
  },
  {
   "cell_type": "code",
   "execution_count": null,
   "id": "5abd932e",
   "metadata": {},
   "outputs": [],
   "source": []
  }
 ],
 "metadata": {
  "kernelspec": {
   "display_name": "Python 3 (ipykernel)",
   "language": "python",
   "name": "python3"
  },
  "language_info": {
   "codemirror_mode": {
    "name": "ipython",
    "version": 3
   },
   "file_extension": ".py",
   "mimetype": "text/x-python",
   "name": "python",
   "nbconvert_exporter": "python",
   "pygments_lexer": "ipython3",
   "version": "3.9.13"
  }
 },
 "nbformat": 4,
 "nbformat_minor": 5
}
